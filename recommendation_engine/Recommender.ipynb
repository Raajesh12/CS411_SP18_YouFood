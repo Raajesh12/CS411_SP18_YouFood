{
 "cells": [
  {
   "cell_type": "code",
   "execution_count": 1,
   "metadata": {},
   "outputs": [],
   "source": [
    "import matplotlib\n",
    "from jupyterthemes import jtplot\n",
    "jtplot.style()\n",
    "matplotlib.rcParams['figure.figsize'] = (12,10)\n",
    "import pandas as pd\n",
    "import matplotlib.pyplot as plt\n",
    "import numpy as np\n",
    "la = np.linalg\n",
    "\n",
    "from tqdm import tqdm_notebook\n",
    "import psycopg2\n",
    "\n",
    "from sklearn.decomposition import PCA\n",
    "from sklearn.manifold import TSNE"
   ]
  },
  {
   "cell_type": "code",
   "execution_count": 2,
   "metadata": {},
   "outputs": [],
   "source": [
    "connection = psycopg2.connect(dbname=\"youfood\", user=\"youfood\", password=\"wizard11\", host=\"localhost\")\n",
    "def sql(query, opt=[]):\n",
    "    with connection as conn:\n",
    "        with conn.cursor() as cur:\n",
    "            cur.execute(query, opt)\n",
    "            return pd.DataFrame(cur.fetchall())"
   ]
  },
  {
   "cell_type": "code",
   "execution_count": 3,
   "metadata": {},
   "outputs": [],
   "source": [
    "def get_mean_vector(email):\n",
    "    rids = sql(f\"\"\"\n",
    "                SELECT \"RelevantRID\".rID, power, c1, c2 ,c3, c4, c5\n",
    "                FROM (\n",
    "                       SELECT\n",
    "                         rID AS rID,\n",
    "                         COUNT(rID) :: float / (\n",
    "                           SELECT COUNT(*) :: float\n",
    "                           FROM \"Transaction\"\n",
    "                           WHERE useremail = '{email}'\n",
    "                         )   as power\n",
    "                       FROM \"Transaction\", \"Restaurant\"\n",
    "                       WHERE useremail = '{email}'\n",
    "                             AND \"Restaurant\".name = \"Transaction\".restaurant_name\n",
    "                             AND \"Restaurant\".address = \"Transaction\".restaurant_address\n",
    "                       GROUP BY rid) AS \"RelevantRID\" JOIN \"RestaurantEmbeddings\" ON \"RelevantRID\".rID = \"RestaurantEmbeddings\".rID;\n",
    "                \"\"\")\n",
    "    mean_vec = np.zeros((5,))\n",
    "    for _, rid, power, *vec in rids.itertuples():\n",
    "        vec = np.array(vec).reshape((5,))\n",
    "        mean_vec += vec*power\n",
    "    return mean_vec"
   ]
  },
  {
   "cell_type": "code",
   "execution_count": 4,
   "metadata": {},
   "outputs": [],
   "source": [
    "def make_recommendations(useremail):\n",
    "    mean_vec = get_mean_vector(useremail).tolist()\n",
    "    return sql(\"\"\"INSERT INTO \"Recommendation\"(restaurant_name, restaurant_address, date, useremail)\n",
    "    SELECT name AS restaurant_name, address AS restaurant_address, current_timestamp AS date, %s AS useremail FROM\n",
    "      ((SELECT rID,\n",
    "              ((%s-c1)^2 + (%s-c2)^2 + (%s-c3)^2 + (%s-c4)^2 + (%s-c5)^2) AS distance\n",
    "        FROM \"RestaurantEmbeddings\") AS \"EngagedRID\" JOIN \"Restaurant\" ON \"Restaurant\".rID = \"EngagedRID\".rID)\n",
    "      WHERE name NOT IN (SELECT restaurant_name AS name FROM \"Transaction\" WHERE useremail = %s)\n",
    "    ORDER BY distance ASC;  SELECT * FROM \"Recommendation\";\n",
    "    \"\"\", [useremail] + mean_vec + [useremail])"
   ]
  },
  {
   "cell_type": "code",
   "execution_count": 5,
   "metadata": {},
   "outputs": [
    {
     "data": {
      "application/vnd.jupyter.widget-view+json": {
       "model_id": "f317f4c6caf9401a9079c9bd1985e2d1",
       "version_major": 2,
       "version_minor": 0
      },
      "text/html": [
       "<p>Failed to display Jupyter Widget of type <code>HBox</code>.</p>\n",
       "<p>\n",
       "  If you're reading this message in the Jupyter Notebook or JupyterLab Notebook, it may mean\n",
       "  that the widgets JavaScript is still loading. If this message persists, it\n",
       "  likely means that the widgets JavaScript library is either not installed or\n",
       "  not enabled. See the <a href=\"https://ipywidgets.readthedocs.io/en/stable/user_install.html\">Jupyter\n",
       "  Widgets Documentation</a> for setup instructions.\n",
       "</p>\n",
       "<p>\n",
       "  If you're reading this message in another frontend (for example, a static\n",
       "  rendering on GitHub or <a href=\"https://nbviewer.jupyter.org/\">NBViewer</a>),\n",
       "  it may mean that your frontend doesn't currently support widgets.\n",
       "</p>\n"
      ],
      "text/plain": [
       "HBox(children=(IntProgress(value=1, bar_style='info', max=1), HTML(value='')))"
      ]
     },
     "metadata": {},
     "output_type": "display_data"
    },
    {
     "name": "stdout",
     "output_type": "stream",
     "text": [
      "\n"
     ]
    }
   ],
   "source": [
    "for _, user in tqdm_notebook(sql(\"SELECT email FROM \\\"User\\\";\").itertuples()):\n",
    "    make_recommendations(user)[:10]"
   ]
  },
  {
   "cell_type": "code",
   "execution_count": 6,
   "metadata": {},
   "outputs": [
    {
     "data": {
      "text/plain": [
       "array([-0.33510438, -0.35782662, -0.35063909,  0.2940441 , -0.30859803])"
      ]
     },
     "execution_count": 6,
     "metadata": {},
     "output_type": "execute_result"
    }
   ],
   "source": [
    "get_mean_vector(\"rohits2@illinois.edu\")"
   ]
  },
  {
   "cell_type": "code",
   "execution_count": null,
   "metadata": {},
   "outputs": [],
   "source": []
  }
 ],
 "metadata": {
  "kernelspec": {
   "display_name": "Python 3",
   "language": "python",
   "name": "python3"
  },
  "language_info": {
   "codemirror_mode": {
    "name": "ipython",
    "version": 3
   },
   "file_extension": ".py",
   "mimetype": "text/x-python",
   "name": "python",
   "nbconvert_exporter": "python",
   "pygments_lexer": "ipython3",
   "version": "3.6.3"
  }
 },
 "nbformat": 4,
 "nbformat_minor": 2
}
